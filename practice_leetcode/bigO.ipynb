{
 "cells": [
  {
   "cell_type": "markdown",
   "metadata": {},
   "source": [
    "# 169. Majority Element\n",
    "https://leetcode.com/problems/majority-element/"
   ]
  },
  {
   "cell_type": "code",
   "execution_count": 1,
   "metadata": {},
   "outputs": [],
   "source": [
    "from typing import List"
   ]
  },
  {
   "cell_type": "code",
   "execution_count": 2,
   "metadata": {},
   "outputs": [],
   "source": [
    "def majorityElement(nums: List[int]) -> int:\n",
    "    mid = len(nums)//2\n",
    "    return sorted(nums)[mid]"
   ]
  },
  {
   "cell_type": "markdown",
   "metadata": {},
   "source": [
    "# 1480. Running Sum of 1d Array\n",
    "https://leetcode.com/problems/running-sum-of-1d-array/"
   ]
  },
  {
   "cell_type": "code",
   "execution_count": 3,
   "metadata": {},
   "outputs": [],
   "source": [
    "def runningSum(nums: List[int]) -> List[int]:\n",
    "    result = []\n",
    "    for i in range(1, len(nums) + 1):\n",
    "        result.append(sum(nums[:i]))\n",
    "    return result\n",
    "            "
   ]
  },
  {
   "cell_type": "markdown",
   "metadata": {},
   "source": [
    "# 242. Valid Anagram\n",
    "https://leetcode.com/problems/valid-anagram/"
   ]
  },
  {
   "cell_type": "code",
   "execution_count": 4,
   "metadata": {},
   "outputs": [],
   "source": [
    "import collections"
   ]
  },
  {
   "cell_type": "code",
   "execution_count": 5,
   "metadata": {},
   "outputs": [],
   "source": [
    "def isAnagram(s: str, t: str) -> bool:\n",
    "    return collections.Counter(s) == collections.Counter(t)"
   ]
  },
  {
   "cell_type": "markdown",
   "metadata": {},
   "source": [
    "# 7. Reverse Integer\n",
    "https://leetcode.com/problems/reverse-integer/"
   ]
  },
  {
   "cell_type": "code",
   "execution_count": 7,
   "metadata": {},
   "outputs": [],
   "source": [
    "# case 1: int\n",
    "def reverse(x: int) -> int:\n",
    "    pos_reg = 1\n",
    "    if x < 0:\n",
    "        x *= -1\n",
    "        pos_reg = -1\n",
    "    k = 10 ** (len(str(x))-1)\n",
    "    result = 0\n",
    "    for _ in range(len(str(x))):\n",
    "        du = x%10\n",
    "        result += du * k\n",
    "        k //= 10\n",
    "        x = (x-du)//10\n",
    "    return result * pos_reg"
   ]
  },
  {
   "cell_type": "code",
   "execution_count": 8,
   "metadata": {},
   "outputs": [],
   "source": [
    "# case 2: str\n",
    "def reverse(x: int) -> int:\n",
    "    pos_reg = 1\n",
    "    if x < 0:\n",
    "        x = -x\n",
    "        pos_reg = -1\n",
    "    result = ''.join(list(str(x)))\n",
    "    return int(result) * pos_reg"
   ]
  },
  {
   "cell_type": "markdown",
   "metadata": {},
   "source": [
    "# 66. Plus One\n",
    "https://leetcode.com/problems/plus-one/"
   ]
  },
  {
   "cell_type": "code",
   "execution_count": 9,
   "metadata": {},
   "outputs": [],
   "source": [
    "def plusOne(digits: List[int]) -> List[int]:\n",
    "    if digits[-1] != 9:\n",
    "        digits[-1] += 1\n",
    "    else:\n",
    "        count = 0\n",
    "        for i in reversed(range(len(digits))):\n",
    "            if digits[i] == 9:\n",
    "                count += 1\n",
    "            else:\n",
    "                break\n",
    "        if count == len(digits):\n",
    "            digits = [1] + [0] * count\n",
    "        else:\n",
    "            digits[-count:] = [0] * count\n",
    "            digits[-count-1] = digits[-count-1] + 1\n",
    "    return digits"
   ]
  },
  {
   "cell_type": "markdown",
   "metadata": {},
   "source": [
    "# 118. Pascal's Triangle\n",
    "https://leetcode.com/problems/pascals-triangle/"
   ]
  },
  {
   "cell_type": "code",
   "execution_count": 10,
   "metadata": {},
   "outputs": [],
   "source": [
    "def generate(numRows: int) -> List[List[int]]:\n",
    "    result = []\n",
    "    for i in range(1, numRows + 1):\n",
    "        add = [1] * i\n",
    "        result.append(add)\n",
    "        for j in range(i):\n",
    "            if i > 2 and (j!=0 and j!=i-1):\n",
    "                result[i-1][j] = result[i-2][j-1] + result[i-2][j]\n",
    "    return result"
   ]
  },
  {
   "cell_type": "markdown",
   "metadata": {},
   "source": [
    "# 238. Product of Array Except Self\n",
    "https://leetcode.com/problems/product-of-array-except-self/"
   ]
  },
  {
   "cell_type": "code",
   "execution_count": 11,
   "metadata": {},
   "outputs": [],
   "source": [
    "def productExceptSelf(nums: List[int]) -> List[int]:\n",
    "    products = [1] * len(nums)\n",
    "    for i in range(len(nums) - 1):\n",
    "        products[i + 1] = products[i] * nums[i]\n",
    "    backprod = 1\n",
    "    output = products\n",
    "    for i in range(len(nums) - 1, -1, -1):\n",
    "        output[i] = products[i] * backprod\n",
    "        backprod *= nums[i]\n",
    "    return output"
   ]
  }
 ],
 "metadata": {
  "interpreter": {
   "hash": "c6b88d3a9442a2e22a092ada4b575cd6fcfa9e7c89a186b40a32cb466660876a"
  },
  "kernelspec": {
   "display_name": "Python 3.8.12 ('pxphong')",
   "language": "python",
   "name": "python3"
  },
  "language_info": {
   "codemirror_mode": {
    "name": "ipython",
    "version": 3
   },
   "file_extension": ".py",
   "mimetype": "text/x-python",
   "name": "python",
   "nbconvert_exporter": "python",
   "pygments_lexer": "ipython3",
   "version": "3.8.12"
  },
  "orig_nbformat": 4
 },
 "nbformat": 4,
 "nbformat_minor": 2
}
